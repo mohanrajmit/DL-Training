{
  "nbformat": 4,
  "nbformat_minor": 0,
  "metadata": {
    "colab": {
      "name": "Facial-Expression-Recognition-Challenge.ipynb",
      "provenance": [],
      "gpuType": "T4",
      "include_colab_link": true
    },
    "kernelspec": {
      "name": "python3",
      "display_name": "Python 3"
    },
    "accelerator": "GPU"
  },
  "cells": [
    {
      "cell_type": "markdown",
      "metadata": {
        "id": "view-in-github",
        "colab_type": "text"
      },
      "source": [
        "<a href=\"https://colab.research.google.com/github/mohanrajmit/DL-Training/blob/master/expression_recognition.ipynb\" target=\"_parent\"><img src=\"https://colab.research.google.com/assets/colab-badge.svg\" alt=\"Open In Colab\"/></a>"
      ]
    },
    {
      "cell_type": "code",
      "metadata": {
        "id": "PPK9xk1TVhjX"
      },
      "source": [
        "import tarfile\n",
        "import pandas as pd\n",
        "import numpy as np\n",
        "import matplotlib.pyplot as plt\n",
        "from keras.models import Sequential, Model, model_from_json\n",
        "from keras.layers import Dense, Conv2D, Activation, MaxPool2D, Flatten, Dropout, BatchNormalization\n",
        "from keras.utils import to_categorical\n",
        "from keras.callbacks import ModelCheckpoint\n",
        "\n",
        "%matplotlib inline"
      ],
      "execution_count": 1,
      "outputs": []
    },
    {
      "cell_type": "code",
      "source": [
        "from google.colab import drive\n",
        "drive.mount('/content/drive')"
      ],
      "metadata": {
        "colab": {
          "base_uri": "https://localhost:8080/"
        },
        "id": "cqkyG2MIzrZK",
        "outputId": "e1421cf7-9333-4040-d8f8-d5e9704ae08f"
      },
      "execution_count": 2,
      "outputs": [
        {
          "output_type": "stream",
          "name": "stdout",
          "text": [
            "Drive already mounted at /content/drive; to attempt to forcibly remount, call drive.mount(\"/content/drive\", force_remount=True).\n"
          ]
        }
      ]
    },
    {
      "cell_type": "code",
      "metadata": {
        "id": "4gKzaHrkA_ZJ",
        "colab": {
          "base_uri": "https://localhost:8080/"
        },
        "outputId": "8d95a5de-99c4-4df0-f8da-360869fb20de"
      },
      "source": [
        "!unzip /content/drive/MyDrive/FER.zip"
      ],
      "execution_count": null,
      "outputs": [
        {
          "output_type": "stream",
          "name": "stdout",
          "text": [
            "Archive:  /content/drive/MyDrive/FER.zip\n",
            "replace test/angry/PrivateTest_10131363.jpg? [y]es, [n]o, [A]ll, [N]one, [r]ename: "
          ]
        }
      ]
    },
    {
      "cell_type": "code",
      "source": [
        "from imutils import paths\n",
        "import cv2"
      ],
      "metadata": {
        "id": "tMFoGtsu0uX0"
      },
      "execution_count": null,
      "outputs": []
    },
    {
      "cell_type": "code",
      "metadata": {
        "id": "mUbpkbFwVhjf"
      },
      "source": [
        "imagePaths = list(paths.list_images(\"/content/train\"))\n",
        "print(imagePaths)"
      ],
      "execution_count": null,
      "outputs": []
    },
    {
      "cell_type": "code",
      "source": [
        "test_imagePaths = list(paths.list_images(\"/content/test\"))\n",
        "print(test_imagePaths)"
      ],
      "metadata": {
        "id": "1mMmd6S93i0z"
      },
      "execution_count": null,
      "outputs": []
    },
    {
      "cell_type": "code",
      "source": [
        "print(len(test_imagePaths))"
      ],
      "metadata": {
        "id": "xfFm5uaC46eZ"
      },
      "execution_count": null,
      "outputs": []
    },
    {
      "cell_type": "code",
      "source": [
        "def load(imagePaths):\n",
        "  # initialize the list of features and labels\n",
        "  data = []\n",
        "  labels = []\n",
        "\n",
        "  # loop over the input images\n",
        "  for (i, imagePath) in enumerate(imagePaths):\n",
        "    # load the image and extract the class label assuming\n",
        "    # that our path has the following format:\n",
        "    # /path/to/dataset/{class}/{image}.jpg\n",
        "    image = cv2.imread(imagePath,0)\n",
        "    label = imagePath.split(\"/\")[-2]\n",
        "    labels.append(label)\n",
        "    #label = imagePath.split(os.path.sep)[-2]\n",
        "    image = cv2.resize(image, (48, 48),interpolation=cv2.INTER_AREA)\n",
        "\n",
        "    # treat our processed image as a \"feature vector\"\n",
        "    # by updating the data list followed by the labels\n",
        "    data.append(image)\n",
        "    #labels.append(label)\n",
        "\n",
        "    # show an update every `verbose` images\n",
        "    #if verbose > 0 and i > 0 and (i + 1) % verbose == 0:\n",
        "    #print(\"[INFO] processed {}/{}\".format(i + 1,\n",
        "    #len(imagePaths)))\n",
        "\n",
        "    # return a tuple of the data and labels\n",
        "  return (np.array(data), np.array(labels))"
      ],
      "metadata": {
        "id": "wIQQAntH1JMi"
      },
      "execution_count": null,
      "outputs": []
    },
    {
      "cell_type": "code",
      "source": [
        "print(len(imagePaths))"
      ],
      "metadata": {
        "id": "8SswMubA078b"
      },
      "execution_count": null,
      "outputs": []
    },
    {
      "cell_type": "code",
      "source": [
        "(data, labels) = load(imagePaths)"
      ],
      "metadata": {
        "id": "e0-MgCwZ1FEB"
      },
      "execution_count": null,
      "outputs": []
    },
    {
      "cell_type": "code",
      "source": [
        "(test_data, test_labels) = load(test_imagePaths)"
      ],
      "metadata": {
        "id": "s97xojQQ3-Tr"
      },
      "execution_count": null,
      "outputs": []
    },
    {
      "cell_type": "code",
      "source": [
        "print(test_data.shape)"
      ],
      "metadata": {
        "id": "cd0StGK04GCC"
      },
      "execution_count": null,
      "outputs": []
    },
    {
      "cell_type": "code",
      "metadata": {
        "id": "gucsuX3GVhjp"
      },
      "source": [
        "print(data.shape)"
      ],
      "execution_count": null,
      "outputs": []
    },
    {
      "cell_type": "code",
      "source": [
        "print(labels.shape)"
      ],
      "metadata": {
        "id": "DEu9xyZJ1lM9"
      },
      "execution_count": null,
      "outputs": []
    },
    {
      "cell_type": "code",
      "source": [
        "print(labels[0])"
      ],
      "metadata": {
        "id": "QHpJ6Ooj1nh2"
      },
      "execution_count": null,
      "outputs": []
    },
    {
      "cell_type": "code",
      "source": [
        "from sklearn.preprocessing import LabelEncoder"
      ],
      "metadata": {
        "id": "idszTnMd1z5r"
      },
      "execution_count": null,
      "outputs": []
    },
    {
      "cell_type": "code",
      "source": [
        "le = LabelEncoder()\n",
        "le_labels = le.fit_transform(labels)"
      ],
      "metadata": {
        "id": "PZs6hoqf2Czb"
      },
      "execution_count": null,
      "outputs": []
    },
    {
      "cell_type": "code",
      "source": [
        "test_le_labels = le.fit_transform(test_labels)"
      ],
      "metadata": {
        "id": "3E7nEe874LSh"
      },
      "execution_count": null,
      "outputs": []
    },
    {
      "cell_type": "code",
      "source": [
        "le_labels"
      ],
      "metadata": {
        "id": "fTvG8BGl2IEK"
      },
      "execution_count": null,
      "outputs": []
    },
    {
      "cell_type": "code",
      "source": [
        "le_labels.shape"
      ],
      "metadata": {
        "id": "yiVkboSx2LGM"
      },
      "execution_count": null,
      "outputs": []
    },
    {
      "cell_type": "code",
      "source": [
        "test_le_labels.shape"
      ],
      "metadata": {
        "id": "6eroa8kj5EZB"
      },
      "execution_count": null,
      "outputs": []
    },
    {
      "cell_type": "code",
      "metadata": {
        "id": "GWXHJHADVhj9"
      },
      "source": [
        "y_train = to_categorical(le_labels)\n",
        "\n"
      ],
      "execution_count": null,
      "outputs": []
    },
    {
      "cell_type": "code",
      "source": [
        "y_test =  to_categorical(test_le_labels)"
      ],
      "metadata": {
        "id": "1TInGZ3J4SvR"
      },
      "execution_count": null,
      "outputs": []
    },
    {
      "cell_type": "code",
      "source": [
        "y_test[0]"
      ],
      "metadata": {
        "id": "TzbjdmmL5KIK"
      },
      "execution_count": null,
      "outputs": []
    },
    {
      "cell_type": "code",
      "source": [
        "test_labels[0]"
      ],
      "metadata": {
        "id": "cW1UOSwC5L1B"
      },
      "execution_count": null,
      "outputs": []
    },
    {
      "cell_type": "code",
      "source": [
        "test_le_labels[0]"
      ],
      "metadata": {
        "id": "lBFUrBAy5N-B"
      },
      "execution_count": null,
      "outputs": []
    },
    {
      "cell_type": "code",
      "source": [
        "labels[0]"
      ],
      "metadata": {
        "id": "hB_Rjn7N2TPB"
      },
      "execution_count": null,
      "outputs": []
    },
    {
      "cell_type": "code",
      "source": [
        "le_labels[0]"
      ],
      "metadata": {
        "id": "ioXHX9Ka2Uwi"
      },
      "execution_count": null,
      "outputs": []
    },
    {
      "cell_type": "code",
      "source": [
        "y_train[0]"
      ],
      "metadata": {
        "id": "tqk2dPi-2QXa"
      },
      "execution_count": null,
      "outputs": []
    },
    {
      "cell_type": "code",
      "metadata": {
        "id": "_P-ftHwmVhkG"
      },
      "source": [
        "\n",
        "data = data.astype('float32')\n",
        "\n",
        "data/=255"
      ],
      "execution_count": null,
      "outputs": []
    },
    {
      "cell_type": "code",
      "source": [
        "\n",
        "test_data = test_data.astype('float32')\n",
        "\n",
        "test_data/=255"
      ],
      "metadata": {
        "id": "61xn689N4X5w"
      },
      "execution_count": null,
      "outputs": []
    },
    {
      "cell_type": "code",
      "metadata": {
        "id": "CiSKGn2jVhkK"
      },
      "source": [
        "from keras.models import Sequential\n",
        "from keras.layers import Conv2D, MaxPooling2D, Flatten"
      ],
      "execution_count": null,
      "outputs": []
    },
    {
      "cell_type": "code",
      "metadata": {
        "id": "AyAkfd_dVhkN"
      },
      "source": [
        "model = Sequential()\n",
        "model.add(Conv2D(32, (3, 3), input_shape=(48,48,1),padding='same', activation=\"relu\"))\n",
        "model.add(Conv2D(32, (3, 3), activation=\"relu\"))\n",
        "model.add(MaxPooling2D(pool_size=(2, 2)))\n",
        "\n",
        "model.add(Conv2D(64, (3, 3), padding='same', activation=\"relu\"))\n",
        "model.add(Conv2D(64, (3, 3), activation=\"relu\"))\n",
        "model.add(MaxPooling2D(pool_size=(2, 2)))\n",
        "model.add(Flatten())\n",
        "model.add(Dense(100,activation='relu'))\n",
        "model.add(Dense(7,activation='softmax'))"
      ],
      "execution_count": null,
      "outputs": []
    },
    {
      "cell_type": "code",
      "source": [
        "model.summary()"
      ],
      "metadata": {
        "id": "y_j5TFSj2vHo"
      },
      "execution_count": null,
      "outputs": []
    },
    {
      "cell_type": "code",
      "source": [
        "model.compile(loss='categorical_crossentropy', optimizer='adam', metrics=['accuracy'])"
      ],
      "metadata": {
        "id": "ujp-7L5t20tc"
      },
      "execution_count": null,
      "outputs": []
    },
    {
      "cell_type": "code",
      "metadata": {
        "id": "XyQfu-JsVhkS"
      },
      "source": [
        "hist = model.fit(data, y_train, batch_size=128, epochs=10,validation_data=(test_data,y_test))"
      ],
      "execution_count": null,
      "outputs": []
    },
    {
      "cell_type": "code",
      "source": [
        "# save model to json\n",
        "model_json = model.to_json()\n",
        "with open(\"face_model.json\", \"w\") as json_file:\n",
        "    json_file.write(model_json)"
      ],
      "metadata": {
        "id": "nHjskf1Sx_8A"
      },
      "execution_count": null,
      "outputs": []
    },
    {
      "cell_type": "code",
      "source": [
        "model.save(\"face_model.h5\")"
      ],
      "metadata": {
        "id": "jxwjWGeJ4vDC"
      },
      "execution_count": null,
      "outputs": []
    },
    {
      "cell_type": "code",
      "source": [],
      "metadata": {
        "id": "5AY9-OXD400q"
      },
      "execution_count": null,
      "outputs": []
    }
  ]
}