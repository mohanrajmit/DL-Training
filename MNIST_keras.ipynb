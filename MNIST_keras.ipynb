{
  "nbformat": 4,
  "nbformat_minor": 0,
  "metadata": {
    "colab": {
      "name": "MNIST_keras.ipynb",
      "provenance": [],
      "include_colab_link": true
    },
    "kernelspec": {
      "name": "python3",
      "display_name": "Python 3"
    },
    "accelerator": "GPU"
  },
  "cells": [
    {
      "cell_type": "markdown",
      "metadata": {
        "id": "view-in-github",
        "colab_type": "text"
      },
      "source": [
        "<a href=\"https://colab.research.google.com/github/mohanrajmit/DL-Training/blob/master/MNIST_keras.ipynb\" target=\"_parent\"><img src=\"https://colab.research.google.com/assets/colab-badge.svg\" alt=\"Open In Colab\"/></a>"
      ]
    },
    {
      "cell_type": "code",
      "metadata": {
        "id": "mE7zM-zj_3GW"
      },
      "source": [
        "import numpy as np\n",
        "import pandas as pd\n",
        "import matplotlib.pyplot as plt\n",
        "%matplotlib inline\n",
        "from keras.datasets import mnist\n",
        "from keras.models import Sequential\n",
        "from keras.layers import Dense, Dropout, Activation\n",
        "from keras.utils import np_utils\n",
        "\n",
        "np.random.seed(35)"
      ],
      "execution_count": 1,
      "outputs": []
    },
    {
      "cell_type": "code",
      "metadata": {
        "id": "4R_C1zvA_3Ge",
        "colab": {
          "base_uri": "https://localhost:8080/"
        },
        "outputId": "cb00b650-ee06-465c-b4f3-f627ba6850e8"
      },
      "source": [
        "(X_train, y_train), (X_test, y_test) = mnist.load_data()\n",
        "print(\"X_train original shape\", X_train.shape)\n",
        "print(\"y_train original shape\", y_train.shape)\n",
        "print(\"X_test original shape\", X_test.shape)\n",
        "print(\"y_test original shape\", y_test.shape)"
      ],
      "execution_count": 2,
      "outputs": [
        {
          "output_type": "stream",
          "name": "stdout",
          "text": [
            "Downloading data from https://storage.googleapis.com/tensorflow/tf-keras-datasets/mnist.npz\n",
            "11490434/11490434 [==============================] - 0s 0us/step\n",
            "X_train original shape (60000, 28, 28)\n",
            "y_train original shape (60000,)\n",
            "X_test original shape (10000, 28, 28)\n",
            "y_test original shape (10000,)\n"
          ]
        }
      ]
    },
    {
      "cell_type": "code",
      "metadata": {
        "id": "BgPvv_Mo_3Gl",
        "colab": {
          "base_uri": "https://localhost:8080/",
          "height": 470
        },
        "outputId": "49791257-ad2b-403e-b69c-dc244dd785c1"
      },
      "source": [
        "plt.imshow(X_test[1001], cmap='gray')\n",
        "plt.title(y_test[1001])"
      ],
      "execution_count": 5,
      "outputs": [
        {
          "output_type": "execute_result",
          "data": {
            "text/plain": [
              "Text(0.5, 1.0, '0')"
            ]
          },
          "metadata": {},
          "execution_count": 5
        },
        {
          "output_type": "display_data",
          "data": {
            "text/plain": [
              "<Figure size 640x480 with 1 Axes>"
            ],
            "image/png": "[encoded data removed]"
          },
          "metadata": {}
        }
      ]
    },
    {
      "cell_type": "code",
      "metadata": {
        "id": "yRXjnJNy_3Gq"
      },
      "source": [
        "X_train = X_train.reshape(60000,784)\n",
        "X_test = X_test.reshape(10000,784)\n",
        "\n",
        "X_train = X_train.astype('float32')\n",
        "X_test = X_test.astype('float32')\n",
        "\n",
        "X_train/=255\n",
        "X_test/=255"
      ],
      "execution_count": 6,
      "outputs": []
    },
    {
      "cell_type": "code",
      "metadata": {
        "id": "6jOAvg1P_3Gt",
        "colab": {
          "base_uri": "https://localhost:8080/"
        },
        "outputId": "a43367f9-15e9-4701-bb5c-bcead3592529"
      },
      "source": [
        "number_of_classes = 10\n",
        "\n",
        "Y_train = np_utils.to_categorical(y_train, number_of_classes)\n",
        "Y_test = np_utils.to_categorical(y_test, number_of_classes)\n",
        "\n",
        "y_train[10], Y_train[10]"
      ],
      "execution_count": 7,
      "outputs": [
        {
          "output_type": "execute_result",
          "data": {
            "text/plain": [
              "(3, array([0., 0., 0., 1., 0., 0., 0., 0., 0., 0.], dtype=float32))"
            ]
          },
          "metadata": {},
          "execution_count": 7
        }
      ]
    },
    {
      "cell_type": "code",
      "metadata": {
        "id": "BsjgvmUN_3Gv"
      },
      "source": [
        "model = Sequential()\n",
        "\n",
        "model.add(Dense(512, input_dim=784,activation='relu'))\n",
        "# An \"activation\" is just a non-linear function applied to the output\n",
        "# of the layer above. Here, with a \"rectified linear unit\",\n",
        "# we clamp all values below 0 to 0.\n",
        "#model.add(Activation('relu'))\n",
        "# Dropout helps protect the model from memorizing or \"overfitting\" the training data\n",
        "model.add(Dropout(0.2))\n",
        "\n",
        "model.add(Dense(256,activation='relu'))\n",
        "#model.add(Activation('relu'))\n",
        "model.add(Dropout(0.2))\n",
        "\n",
        "model.add(Dense(128,activation='relu'))\n",
        "#model.add(Activation('relu'))\n",
        "model.add(Dropout(0.2))\n",
        "\n",
        "model.add(Dense(10,activation='softmax'))\n",
        "# This special \"softmax\" activation among other things,\n",
        "# ensures the output is a valid probaility distribution, that is\n",
        "# that its values are all non-negative and sum to 1.\n",
        "#model.add(Activation('softmax'))"
      ],
      "execution_count": 8,
      "outputs": []
    },
    {
      "cell_type": "code",
      "source": [
        "model.summary()"
      ],
      "metadata": {
        "id": "zkUSV8DUKYM3",
        "outputId": "5bb7e323-2b03-46c2-a942-c62c3d78ac23",
        "colab": {
          "base_uri": "https://localhost:8080/"
        }
      },
      "execution_count": 9,
      "outputs": [
        {
          "output_type": "stream",
          "name": "stdout",
          "text": [
            "Model: \"sequential\"\n",
            "_________________________________________________________________\n",
            " Layer (type)                Output Shape              Param #   \n",
            "=================================================================\n",
            " dense (Dense)               (None, 512)               401920    \n",
            "                                                                 \n",
            " dropout (Dropout)           (None, 512)               0         \n",
            "                                                                 \n",
            " dense_1 (Dense)             (None, 256)               131328    \n",
            "                                                                 \n",
            " dropout_1 (Dropout)         (None, 256)               0         \n",
            "                                                                 \n",
            " dense_2 (Dense)             (None, 128)               32896     \n",
            "                                                                 \n",
            " dropout_2 (Dropout)         (None, 128)               0         \n",
            "                                                                 \n",
            " dense_3 (Dense)             (None, 10)                1290      \n",
            "                                                                 \n",
            "=================================================================\n",
            "Total params: 567,434\n",
            "Trainable params: 567,434\n",
            "Non-trainable params: 0\n",
            "_________________________________________________________________\n"
          ]
        }
      ]
    },
    {
      "cell_type": "code",
      "source": [
        "from keras.callbacks import EarlyStopping\n",
        "es = EarlyStopping(monitor='val_accuracy', mode='max',patience=10)"
      ],
      "metadata": {
        "id": "gScFBC25PY_C"
      },
      "execution_count": 10,
      "outputs": []
    },
    {
      "cell_type": "code",
      "source": [
        "'''from tensorflow.keras.callbacks import ModelCheckpoint\n",
        "import os\n",
        "\n",
        "fname = os.path.sep.join([\"/content/weight\",\"weights-{epoch:03d}-{val_loss:.4f}.h5\"])'''"
      ],
      "metadata": {
        "id": "rUiS8PS6Q1WU",
        "outputId": "c5d6ff23-c7e1-4f59-a508-ffb304ff901d",
        "colab": {
          "base_uri": "https://localhost:8080/",
          "height": 54
        }
      },
      "execution_count": 11,
      "outputs": [
        {
          "output_type": "execute_result",
          "data": {
            "text/plain": [
              "'from tensorflow.keras.callbacks import ModelCheckpoint\\nimport os\\n\\nfname = os.path.sep.join([\"/content/weight\",\"weights-{epoch:03d}-{val_loss:.4f}.h5\"])'"
            ],
            "application/vnd.google.colaboratory.intrinsic+json": {
              "type": "string"
            }
          },
          "metadata": {},
          "execution_count": 11
        }
      ]
    },
    {
      "cell_type": "code",
      "source": [
        "#mc = ModelCheckpoint(fname, monitor='val_loss', mode='min', save_best_only=True)"
      ],
      "metadata": {
        "id": "LRXXjqC9Q70u"
      },
      "execution_count": 12,
      "outputs": []
    },
    {
      "cell_type": "code",
      "metadata": {
        "id": "UfM4obWE_3Gy"
      },
      "source": [
        "model.compile(loss='categorical_crossentropy', optimizer='adam',metrics=['accuracy'])"
      ],
      "execution_count": 13,
      "outputs": []
    },
    {
      "cell_type": "code",
      "metadata": {
        "id": "4bgNGsohMEr2",
        "colab": {
          "base_uri": "https://localhost:8080/"
        },
        "outputId": "3a8f9fd9-68e9-4d02-e603-7f149c00ba79"
      },
      "source": [
        "model.summary()"
      ],
      "execution_count": 14,
      "outputs": [
        {
          "output_type": "stream",
          "name": "stdout",
          "text": [
            "Model: \"sequential\"\n",
            "_________________________________________________________________\n",
            " Layer (type)                Output Shape              Param #   \n",
            "=================================================================\n",
            " dense (Dense)               (None, 512)               401920    \n",
            "                                                                 \n",
            " dropout (Dropout)           (None, 512)               0         \n",
            "                                                                 \n",
            " dense_1 (Dense)             (None, 256)               131328    \n",
            "                                                                 \n",
            " dropout_1 (Dropout)         (None, 256)               0         \n",
            "                                                                 \n",
            " dense_2 (Dense)             (None, 128)               32896     \n",
            "                                                                 \n",
            " dropout_2 (Dropout)         (None, 128)               0         \n",
            "                                                                 \n",
            " dense_3 (Dense)             (None, 10)                1290      \n",
            "                                                                 \n",
            "=================================================================\n",
            "Total params: 567,434\n",
            "Trainable params: 567,434\n",
            "Non-trainable params: 0\n",
            "_________________________________________________________________\n"
          ]
        }
      ]
    },
    {
      "cell_type": "code",
      "metadata": {
        "id": "3P6VqYcf_3G2"
      },
      "source": [
        "size = int(len(X_train) * 0.8)\n",
        "\n",
        "train_x, val_x = X_train[:size], X_train[size:]\n",
        "train_y, val_y = Y_train[:size], Y_train[size:]"
      ],
      "execution_count": 15,
      "outputs": []
    },
    {
      "cell_type": "code",
      "source": [
        "train_x.shape"
      ],
      "metadata": {
        "id": "Cx3EJrbRL1hk",
        "outputId": "108fefac-14e8-4eda-e30b-3680a81eb8e0",
        "colab": {
          "base_uri": "https://localhost:8080/"
        }
      },
      "execution_count": 16,
      "outputs": [
        {
          "output_type": "execute_result",
          "data": {
            "text/plain": [
              "(48000, 784)"
            ]
          },
          "metadata": {},
          "execution_count": 16
        }
      ]
    },
    {
      "cell_type": "code",
      "source": [
        "val_x.shape"
      ],
      "metadata": {
        "id": "A2Osopl6L4Tp",
        "outputId": "e69dfd5b-30ad-433a-d1ee-225d40600e17",
        "colab": {
          "base_uri": "https://localhost:8080/"
        }
      },
      "execution_count": 17,
      "outputs": [
        {
          "output_type": "execute_result",
          "data": {
            "text/plain": [
              "(12000, 784)"
            ]
          },
          "metadata": {},
          "execution_count": 17
        }
      ]
    },
    {
      "cell_type": "code",
      "source": [
        "X_test.shape"
      ],
      "metadata": {
        "id": "tmbnxhfLL6i3",
        "outputId": "1f9adf71-f12f-480c-d076-a2d1bfd8c651",
        "colab": {
          "base_uri": "https://localhost:8080/"
        }
      },
      "execution_count": 18,
      "outputs": [
        {
          "output_type": "execute_result",
          "data": {
            "text/plain": [
              "(10000, 784)"
            ]
          },
          "metadata": {},
          "execution_count": 18
        }
      ]
    },
    {
      "cell_type": "code",
      "metadata": {
        "id": "1IQyPm1g_3G6",
        "colab": {
          "base_uri": "https://localhost:8080/"
        },
        "outputId": "4767b98c-67a7-4fb5-91a6-430cec9e02ce"
      },
      "source": [
        "hist = model.fit(train_x, train_y, batch_size=128, epochs=100,callbacks=[es], validation_data=(val_x, val_y))"
      ],
      "execution_count": 19,
      "outputs": [
        {
          "output_type": "stream",
          "name": "stdout",
          "text": [
            "Epoch 1/100\n",
            "375/375 [==============================] - 8s 5ms/step - loss: 0.3346 - accuracy: 0.8972 - val_loss: 0.1323 - val_accuracy: 0.9604\n",
            "Epoch 2/100\n",
            "375/375 [==============================] - 2s 4ms/step - loss: 0.1296 - accuracy: 0.9605 - val_loss: 0.1046 - val_accuracy: 0.9684\n",
            "Epoch 3/100\n",
            "375/375 [==============================] - 2s 4ms/step - loss: 0.0937 - accuracy: 0.9715 - val_loss: 0.0976 - val_accuracy: 0.9703\n",
            "Epoch 4/100\n",
            "375/375 [==============================] - 2s 5ms/step - loss: 0.0750 - accuracy: 0.9762 - val_loss: 0.0887 - val_accuracy: 0.9753\n",
            "Epoch 5/100\n",
            "375/375 [==============================] - 2s 6ms/step - loss: 0.0622 - accuracy: 0.9808 - val_loss: 0.0764 - val_accuracy: 0.9778\n",
            "Epoch 6/100\n",
            "375/375 [==============================] - 2s 4ms/step - loss: 0.0514 - accuracy: 0.9842 - val_loss: 0.0780 - val_accuracy: 0.9781\n",
            "Epoch 7/100\n",
            "375/375 [==============================] - 2s 4ms/step - loss: 0.0458 - accuracy: 0.9853 - val_loss: 0.0802 - val_accuracy: 0.9783\n",
            "Epoch 8/100\n",
            "375/375 [==============================] - 2s 4ms/step - loss: 0.0391 - accuracy: 0.9880 - val_loss: 0.0913 - val_accuracy: 0.9751\n",
            "Epoch 9/100\n",
            "375/375 [==============================] - 2s 4ms/step - loss: 0.0381 - accuracy: 0.9876 - val_loss: 0.0807 - val_accuracy: 0.9783\n",
            "Epoch 10/100\n",
            "375/375 [==============================] - 2s 4ms/step - loss: 0.0359 - accuracy: 0.9886 - val_loss: 0.0841 - val_accuracy: 0.9797\n",
            "Epoch 11/100\n",
            "375/375 [==============================] - 2s 5ms/step - loss: 0.0335 - accuracy: 0.9895 - val_loss: 0.0871 - val_accuracy: 0.9780\n",
            "Epoch 12/100\n",
            "375/375 [==============================] - 2s 6ms/step - loss: 0.0278 - accuracy: 0.9908 - val_loss: 0.0865 - val_accuracy: 0.9780\n",
            "Epoch 13/100\n",
            "375/375 [==============================] - 2s 4ms/step - loss: 0.0259 - accuracy: 0.9916 - val_loss: 0.0903 - val_accuracy: 0.9781\n",
            "Epoch 14/100\n",
            "375/375 [==============================] - 2s 4ms/step - loss: 0.0258 - accuracy: 0.9918 - val_loss: 0.0878 - val_accuracy: 0.9783\n",
            "Epoch 15/100\n",
            "375/375 [==============================] - 2s 4ms/step - loss: 0.0263 - accuracy: 0.9912 - val_loss: 0.0858 - val_accuracy: 0.9807\n",
            "Epoch 16/100\n",
            "375/375 [==============================] - 2s 4ms/step - loss: 0.0191 - accuracy: 0.9936 - val_loss: 0.0901 - val_accuracy: 0.9805\n",
            "Epoch 17/100\n",
            "375/375 [==============================] - 2s 4ms/step - loss: 0.0237 - accuracy: 0.9926 - val_loss: 0.0952 - val_accuracy: 0.9803\n",
            "Epoch 18/100\n",
            "375/375 [==============================] - 2s 5ms/step - loss: 0.0219 - accuracy: 0.9929 - val_loss: 0.0820 - val_accuracy: 0.9814\n",
            "Epoch 19/100\n",
            "375/375 [==============================] - 2s 6ms/step - loss: 0.0192 - accuracy: 0.9938 - val_loss: 0.1045 - val_accuracy: 0.9775\n",
            "Epoch 20/100\n",
            "375/375 [==============================] - 2s 4ms/step - loss: 0.0179 - accuracy: 0.9947 - val_loss: 0.0979 - val_accuracy: 0.9788\n",
            "Epoch 21/100\n",
            "375/375 [==============================] - 2s 5ms/step - loss: 0.0202 - accuracy: 0.9933 - val_loss: 0.0806 - val_accuracy: 0.9806\n",
            "Epoch 22/100\n",
            "375/375 [==============================] - 2s 4ms/step - loss: 0.0161 - accuracy: 0.9948 - val_loss: 0.0878 - val_accuracy: 0.9803\n",
            "Epoch 23/100\n",
            "375/375 [==============================] - 2s 4ms/step - loss: 0.0172 - accuracy: 0.9947 - val_loss: 0.0904 - val_accuracy: 0.9803\n",
            "Epoch 24/100\n",
            "375/375 [==============================] - 2s 5ms/step - loss: 0.0179 - accuracy: 0.9945 - val_loss: 0.0898 - val_accuracy: 0.9812\n",
            "Epoch 25/100\n",
            "375/375 [==============================] - 2s 5ms/step - loss: 0.0192 - accuracy: 0.9939 - val_loss: 0.0930 - val_accuracy: 0.9788\n",
            "Epoch 26/100\n",
            "375/375 [==============================] - 2s 6ms/step - loss: 0.0158 - accuracy: 0.9948 - val_loss: 0.0886 - val_accuracy: 0.9822\n",
            "Epoch 27/100\n",
            "375/375 [==============================] - 2s 4ms/step - loss: 0.0095 - accuracy: 0.9970 - val_loss: 0.0964 - val_accuracy: 0.9809\n",
            "Epoch 28/100\n",
            "375/375 [==============================] - 2s 4ms/step - loss: 0.0141 - accuracy: 0.9955 - val_loss: 0.1184 - val_accuracy: 0.9782\n",
            "Epoch 29/100\n",
            "375/375 [==============================] - 2s 4ms/step - loss: 0.0164 - accuracy: 0.9950 - val_loss: 0.0896 - val_accuracy: 0.9817\n",
            "Epoch 30/100\n",
            "375/375 [==============================] - 2s 5ms/step - loss: 0.0145 - accuracy: 0.9955 - val_loss: 0.1033 - val_accuracy: 0.9826\n",
            "Epoch 31/100\n",
            "375/375 [==============================] - 2s 4ms/step - loss: 0.0127 - accuracy: 0.9960 - val_loss: 0.0944 - val_accuracy: 0.9825\n",
            "Epoch 32/100\n",
            "375/375 [==============================] - 2s 4ms/step - loss: 0.0131 - accuracy: 0.9957 - val_loss: 0.1026 - val_accuracy: 0.9826\n",
            "Epoch 33/100\n",
            "375/375 [==============================] - 2s 6ms/step - loss: 0.0145 - accuracy: 0.9957 - val_loss: 0.1014 - val_accuracy: 0.9811\n",
            "Epoch 34/100\n",
            "375/375 [==============================] - 2s 5ms/step - loss: 0.0127 - accuracy: 0.9958 - val_loss: 0.1065 - val_accuracy: 0.9803\n",
            "Epoch 35/100\n",
            "375/375 [==============================] - 2s 4ms/step - loss: 0.0116 - accuracy: 0.9964 - val_loss: 0.1046 - val_accuracy: 0.9823\n",
            "Epoch 36/100\n",
            "375/375 [==============================] - 2s 4ms/step - loss: 0.0135 - accuracy: 0.9962 - val_loss: 0.0950 - val_accuracy: 0.9803\n",
            "Epoch 37/100\n",
            "375/375 [==============================] - 2s 4ms/step - loss: 0.0132 - accuracy: 0.9961 - val_loss: 0.0976 - val_accuracy: 0.9820\n",
            "Epoch 38/100\n",
            "375/375 [==============================] - 2s 4ms/step - loss: 0.0091 - accuracy: 0.9974 - val_loss: 0.1052 - val_accuracy: 0.9809\n",
            "Epoch 39/100\n",
            "375/375 [==============================] - 2s 4ms/step - loss: 0.0143 - accuracy: 0.9957 - val_loss: 0.0977 - val_accuracy: 0.9827\n",
            "Epoch 40/100\n",
            "375/375 [==============================] - 2s 6ms/step - loss: 0.0119 - accuracy: 0.9966 - val_loss: 0.0996 - val_accuracy: 0.9812\n",
            "Epoch 41/100\n",
            "375/375 [==============================] - 2s 5ms/step - loss: 0.0081 - accuracy: 0.9974 - val_loss: 0.1172 - val_accuracy: 0.9804\n",
            "Epoch 42/100\n",
            "375/375 [==============================] - 2s 5ms/step - loss: 0.0126 - accuracy: 0.9961 - val_loss: 0.1041 - val_accuracy: 0.9823\n",
            "Epoch 43/100\n",
            "375/375 [==============================] - 2s 4ms/step - loss: 0.0091 - accuracy: 0.9974 - val_loss: 0.1041 - val_accuracy: 0.9827\n",
            "Epoch 44/100\n",
            "375/375 [==============================] - 2s 4ms/step - loss: 0.0143 - accuracy: 0.9957 - val_loss: 0.1140 - val_accuracy: 0.9798\n",
            "Epoch 45/100\n",
            "375/375 [==============================] - 2s 5ms/step - loss: 0.0111 - accuracy: 0.9963 - val_loss: 0.1132 - val_accuracy: 0.9812\n",
            "Epoch 46/100\n",
            "375/375 [==============================] - 2s 5ms/step - loss: 0.0082 - accuracy: 0.9973 - val_loss: 0.1128 - val_accuracy: 0.9814\n",
            "Epoch 47/100\n",
            "375/375 [==============================] - 2s 6ms/step - loss: 0.0104 - accuracy: 0.9968 - val_loss: 0.1202 - val_accuracy: 0.9819\n",
            "Epoch 48/100\n",
            "375/375 [==============================] - 2s 5ms/step - loss: 0.0109 - accuracy: 0.9968 - val_loss: 0.1142 - val_accuracy: 0.9810\n",
            "Epoch 49/100\n",
            "375/375 [==============================] - 2s 4ms/step - loss: 0.0080 - accuracy: 0.9974 - val_loss: 0.1126 - val_accuracy: 0.9833\n",
            "Epoch 50/100\n",
            "375/375 [==============================] - 2s 4ms/step - loss: 0.0096 - accuracy: 0.9974 - val_loss: 0.1084 - val_accuracy: 0.9819\n",
            "Epoch 51/100\n",
            "375/375 [==============================] - 2s 5ms/step - loss: 0.0054 - accuracy: 0.9983 - val_loss: 0.1147 - val_accuracy: 0.9818\n",
            "Epoch 52/100\n",
            "375/375 [==============================] - 2s 4ms/step - loss: 0.0123 - accuracy: 0.9964 - val_loss: 0.1086 - val_accuracy: 0.9830\n",
            "Epoch 53/100\n",
            "375/375 [==============================] - 2s 4ms/step - loss: 0.0088 - accuracy: 0.9974 - val_loss: 0.1108 - val_accuracy: 0.9827\n",
            "Epoch 54/100\n",
            "375/375 [==============================] - 2s 6ms/step - loss: 0.0094 - accuracy: 0.9972 - val_loss: 0.1138 - val_accuracy: 0.9835\n",
            "Epoch 55/100\n",
            "375/375 [==============================] - 2s 5ms/step - loss: 0.0115 - accuracy: 0.9966 - val_loss: 0.1030 - val_accuracy: 0.9829\n",
            "Epoch 56/100\n",
            "375/375 [==============================] - 2s 4ms/step - loss: 0.0092 - accuracy: 0.9973 - val_loss: 0.1230 - val_accuracy: 0.9812\n",
            "Epoch 57/100\n",
            "375/375 [==============================] - 2s 4ms/step - loss: 0.0088 - accuracy: 0.9976 - val_loss: 0.1062 - val_accuracy: 0.9831\n",
            "Epoch 58/100\n",
            "375/375 [==============================] - 2s 4ms/step - loss: 0.0099 - accuracy: 0.9968 - val_loss: 0.1053 - val_accuracy: 0.9828\n",
            "Epoch 59/100\n",
            "375/375 [==============================] - 2s 4ms/step - loss: 0.0099 - accuracy: 0.9973 - val_loss: 0.0970 - val_accuracy: 0.9834\n",
            "Epoch 60/100\n",
            "375/375 [==============================] - 2s 4ms/step - loss: 0.0078 - accuracy: 0.9976 - val_loss: 0.1080 - val_accuracy: 0.9840\n",
            "Epoch 61/100\n",
            "375/375 [==============================] - 2s 5ms/step - loss: 0.0069 - accuracy: 0.9979 - val_loss: 0.1066 - val_accuracy: 0.9829\n",
            "Epoch 62/100\n",
            "375/375 [==============================] - 2s 6ms/step - loss: 0.0071 - accuracy: 0.9980 - val_loss: 0.1159 - val_accuracy: 0.9812\n",
            "Epoch 63/100\n",
            "375/375 [==============================] - 2s 4ms/step - loss: 0.0066 - accuracy: 0.9980 - val_loss: 0.1253 - val_accuracy: 0.9826\n",
            "Epoch 64/100\n",
            "375/375 [==============================] - 2s 4ms/step - loss: 0.0092 - accuracy: 0.9974 - val_loss: 0.1236 - val_accuracy: 0.9822\n",
            "Epoch 65/100\n",
            "375/375 [==============================] - 2s 4ms/step - loss: 0.0109 - accuracy: 0.9970 - val_loss: 0.1161 - val_accuracy: 0.9828\n",
            "Epoch 66/100\n",
            "375/375 [==============================] - 2s 5ms/step - loss: 0.0067 - accuracy: 0.9980 - val_loss: 0.1117 - val_accuracy: 0.9835\n",
            "Epoch 67/100\n",
            "375/375 [==============================] - 2s 4ms/step - loss: 0.0075 - accuracy: 0.9978 - val_loss: 0.1155 - val_accuracy: 0.9822\n",
            "Epoch 68/100\n",
            "375/375 [==============================] - 2s 5ms/step - loss: 0.0085 - accuracy: 0.9974 - val_loss: 0.1230 - val_accuracy: 0.9824\n",
            "Epoch 69/100\n",
            "375/375 [==============================] - 2s 6ms/step - loss: 0.0098 - accuracy: 0.9973 - val_loss: 0.1094 - val_accuracy: 0.9827\n",
            "Epoch 70/100\n",
            "375/375 [==============================] - 2s 5ms/step - loss: 0.0075 - accuracy: 0.9978 - val_loss: 0.1233 - val_accuracy: 0.9827\n"
          ]
        }
      ]
    },
    {
      "cell_type": "code",
      "metadata": {
        "id": "iVMEuC0-_3HB",
        "colab": {
          "base_uri": "https://localhost:8080/"
        },
        "outputId": "10e2a36b-3fe5-45df-9b9d-2eda6c6b600f"
      },
      "source": [
        "score = model.evaluate(X_test, Y_test)\n",
        "print()\n",
        "print('Test accuracy: ', score[1])"
      ],
      "execution_count": null,
      "outputs": [
        {
          "output_type": "stream",
          "name": "stdout",
          "text": [
            "313/313 [==============================] - 1s 4ms/step - loss: 0.0804 - accuracy: 0.9816\n",
            "\n",
            "Test accuracy:  0.9815999865531921\n"
          ]
        }
      ]
    },
    {
      "cell_type": "code",
      "metadata": {
        "id": "elo2tQ9C_3HE",
        "colab": {
          "base_uri": "https://localhost:8080/"
        },
        "outputId": "36675441-dd2c-40e0-8a4a-20f222d22d46"
      },
      "source": [
        "predictions = model.predict(X_test)\n",
        "\n",
        "predictions = list(predictions)\n",
        "actuals = list(y_test)\n",
        "\n",
        "sub = pd.DataFrame({'Actual': actuals, 'Predictions': predictions})\n",
        "sub.to_csv('output.csv', index=False)"
      ],
      "execution_count": null,
      "outputs": [
        {
          "output_type": "stream",
          "name": "stdout",
          "text": [
            "313/313 [==============================] - 1s 2ms/step\n"
          ]
        }
      ]
    },
    {
      "cell_type": "code",
      "source": [
        "np.argmax(predictions[1])"
      ],
      "metadata": {
        "id": "V7WVw-ylOE1d",
        "outputId": "98ba65a4-36fd-4714-fc15-28f10cb52235",
        "colab": {
          "base_uri": "https://localhost:8080/"
        }
      },
      "execution_count": null,
      "outputs": [
        {
          "output_type": "execute_result",
          "data": {
            "text/plain": [
              "2"
            ]
          },
          "metadata": {},
          "execution_count": 36
        }
      ]
    },
    {
      "cell_type": "code",
      "metadata": {
        "id": "jd888zf-mDjy"
      },
      "source": [],
      "execution_count": null,
      "outputs": []
    },
    {
      "cell_type": "code",
      "metadata": {
        "id": "CiSKGn2jVhkK",
        "colab": {
          "base_uri": "https://localhost:8080/",
          "height": 227
        },
        "outputId": "27c1665b-9869-4069-ee96-8ad5f2c1be88"
      },
      "source": [
        "plt.figure(figsize=(14,3))\n",
        "plt.subplot(1, 2, 1)\n",
        "plt.suptitle('Optimizer : Adam', fontsize=10)\n",
        "plt.ylabel('Loss', fontsize=16)\n",
        "plt.plot(hist.history['loss'], color='b', label='Training Loss')\n",
        "plt.plot(hist.history['val_loss'], color='r', label='Validation Loss')\n",
        "plt.legend(loc='upper right')\n",
        "\n",
        "plt.subplot(1, 2, 2)\n",
        "plt.ylabel('Accuracy', fontsize=16)\n",
        "plt.plot(hist.history['accuracy'], color='b', label='Training Accuracy')\n",
        "plt.plot(hist.history['val_accuracy'], color='r', label='Validation Accuracy')\n",
        "plt.legend(loc='lower right')\n",
        "plt.show()"
      ],
      "execution_count": 20,
      "outputs": [
        {
          "output_type": "display_data",
          "data": {
            "text/plain": [
              "<Figure size 1400x300 with 2 Axes>"
            ],
            "image/png": "[encoded data removed]"
          },
          "metadata": {}
        }
      ]
    },
    {
      "cell_type": "code",
      "metadata": {
        "id": "yXNDej7bnSZz"
      },
      "source": [],
      "execution_count": null,
      "outputs": []
    }
  ]
}