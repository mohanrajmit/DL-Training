{
  "nbformat": 4,
  "nbformat_minor": 0,
  "metadata": {
    "colab": {
      "name": "MNIST_keras.ipynb",
      "provenance": [],
      "include_colab_link": true
    },
    "kernelspec": {
      "name": "python3",
      "display_name": "Python 3"
    },
    "accelerator": "GPU"
  },
  "cells": [
    {
      "cell_type": "markdown",
      "metadata": {
        "id": "view-in-github",
        "colab_type": "text"
      },
      "source": [
        "<a href=\"https://colab.research.google.com/github/mohanrajmit/DL-Training/blob/master/MNIST_keras_updated.ipynb\" target=\"_parent\"><img src=\"https://colab.research.google.com/assets/colab-badge.svg\" alt=\"Open In Colab\"/></a>"
      ]
    },
    {
      "cell_type": "code",
      "metadata": {
        "id": "mE7zM-zj_3GW"
      },
      "source": [
        "import numpy as np\n",
        "import pandas as pd\n",
        "import matplotlib.pyplot as plt\n",
        "%matplotlib inline\n",
        "from keras.datasets import mnist\n",
        "from keras.models import Sequential\n",
        "from keras.layers import Dense, Dropout, Activation\n",
        "from keras.utils import to_categorical\n",
        "\n",
        "np.random.seed(35)"
      ],
      "execution_count": 3,
      "outputs": []
    },
    {
      "cell_type": "code",
      "metadata": {
        "id": "4R_C1zvA_3Ge",
        "colab": {
          "base_uri": "https://localhost:8080/"
        },
        "outputId": "eba1f5cf-6380-4742-f19f-bcfc66831a5e"
      },
      "source": [
        "(X_train, y_train), (X_test, y_test) = mnist.load_data()\n",
        "print(\"X_train original shape\", X_train.shape)\n",
        "print(\"y_train original shape\", y_train.shape)\n",
        "print(\"X_test original shape\", X_test.shape)\n",
        "print(\"y_test original shape\", y_test.shape)"
      ],
      "execution_count": 4,
      "outputs": [
        {
          "output_type": "stream",
          "name": "stdout",
          "text": [
            "Downloading data from https://storage.googleapis.com/tensorflow/tf-keras-datasets/mnist.npz\n",
            "11490434/11490434 [==============================] - 0s 0us/step\n",
            "X_train original shape (60000, 28, 28)\n",
            "y_train original shape (60000,)\n",
            "X_test original shape (10000, 28, 28)\n",
            "y_test original shape (10000,)\n"
          ]
        }
      ]
    },
    {
      "cell_type": "code",
      "metadata": {
        "id": "BgPvv_Mo_3Gl",
        "colab": {
          "base_uri": "https://localhost:8080/",
          "height": 469
        },
        "outputId": "893eb632-14f1-4758-cf44-26dc3d2af41c"
      },
      "source": [
        "plt.imshow(X_test[11], cmap='gray')\n",
        "plt.title(y_test[11])"
      ],
      "execution_count": 6,
      "outputs": [
        {
          "output_type": "execute_result",
          "data": {
            "text/plain": [
              "Text(0.5, 1.0, '6')"
            ]
          },
          "metadata": {},
          "execution_count": 6
        },
        {
          "output_type": "display_data",
          "data": {
            "text/plain": [
              "<Figure size 640x480 with 1 Axes>"
            ],
            "image/png": "[encoded data removed]"
          },
          "metadata": {}
        }
      ]
    },
    {
      "cell_type": "code",
      "metadata": {
        "id": "yRXjnJNy_3Gq"
      },
      "source": [
        "X_train = X_train.reshape(60000,784)\n",
        "X_test = X_test.reshape(10000,784)\n",
        "\n",
        "X_train = X_train.astype('float32')\n",
        "X_test = X_test.astype('float32')\n",
        "\n",
        "X_train/=255\n",
        "X_test/=255"
      ],
      "execution_count": 8,
      "outputs": []
    },
    {
      "cell_type": "code",
      "metadata": {
        "id": "6jOAvg1P_3Gt"
      },
      "source": [
        "number_of_classes = 10\n",
        "\n",
        "Y_train = to_categorical(y_train, number_of_classes)\n",
        "Y_test = to_categorical(y_test, number_of_classes)\n",
        "\n"
      ],
      "execution_count": 7,
      "outputs": []
    },
    {
      "cell_type": "code",
      "source": [
        "y_train[100], Y_train[100]"
      ],
      "metadata": {
        "id": "CA1JScjJztyN",
        "outputId": "306fbffb-ee88-48a6-fcb5-7dcf9f9831f8",
        "colab": {
          "base_uri": "https://localhost:8080/"
        }
      },
      "execution_count": 10,
      "outputs": [
        {
          "output_type": "execute_result",
          "data": {
            "text/plain": [
              "(5, array([0., 0., 0., 0., 0., 1., 0., 0., 0., 0.], dtype=float32))"
            ]
          },
          "metadata": {},
          "execution_count": 10
        }
      ]
    },
    {
      "cell_type": "code",
      "metadata": {
        "id": "BsjgvmUN_3Gv"
      },
      "source": [
        "model = Sequential()\n",
        "model.add(Dense(512, input_dim=784,activation='relu'))\n",
        "model.add(Dense(256,activation='relu'))\n",
        "model.add(Dense(128,activation='relu'))\n",
        "model.add(Dense(10,activation='softmax'))\n"
      ],
      "execution_count": 11,
      "outputs": []
    },
    {
      "cell_type": "code",
      "source": [
        "model.summary()"
      ],
      "metadata": {
        "id": "zkUSV8DUKYM3",
        "outputId": "1185f624-3346-4116-9c17-1ab97e0d0e92",
        "colab": {
          "base_uri": "https://localhost:8080/"
        }
      },
      "execution_count": 12,
      "outputs": [
        {
          "output_type": "stream",
          "name": "stdout",
          "text": [
            "Model: \"sequential\"\n",
            "_________________________________________________________________\n",
            " Layer (type)                Output Shape              Param #   \n",
            "=================================================================\n",
            " dense (Dense)               (None, 512)               401920    \n",
            "                                                                 \n",
            " dense_1 (Dense)             (None, 256)               131328    \n",
            "                                                                 \n",
            " dense_2 (Dense)             (None, 128)               32896     \n",
            "                                                                 \n",
            " dense_3 (Dense)             (None, 10)                1290      \n",
            "                                                                 \n",
            "=================================================================\n",
            "Total params: 567434 (2.16 MB)\n",
            "Trainable params: 567434 (2.16 MB)\n",
            "Non-trainable params: 0 (0.00 Byte)\n",
            "_________________________________________________________________\n"
          ]
        }
      ]
    },
    {
      "cell_type": "code",
      "source": [],
      "metadata": {
        "id": "gScFBC25PY_C"
      },
      "execution_count": null,
      "outputs": []
    },
    {
      "cell_type": "code",
      "source": [
        "'''from tensorflow.keras.callbacks import ModelCheckpoint\n",
        "import os\n",
        "\n",
        "fname = os.path.sep.join([\"/content/weight\",\"weights-{epoch:03d}-{val_loss:.4f}.h5\"])'''"
      ],
      "metadata": {
        "id": "rUiS8PS6Q1WU",
        "outputId": "224f7099-fb61-4495-9d40-fddb427b0181",
        "colab": {
          "base_uri": "https://localhost:8080/",
          "height": 52
        }
      },
      "execution_count": 13,
      "outputs": [
        {
          "output_type": "execute_result",
          "data": {
            "text/plain": [
              "'from tensorflow.keras.callbacks import ModelCheckpoint\\nimport os\\n\\nfname = os.path.sep.join([\"/content/weight\",\"weights-{epoch:03d}-{val_loss:.4f}.h5\"])'"
            ],
            "application/vnd.google.colaboratory.intrinsic+json": {
              "type": "string"
            }
          },
          "metadata": {},
          "execution_count": 13
        }
      ]
    },
    {
      "cell_type": "code",
      "source": [
        "#mc = ModelCheckpoint(fname, monitor='val_loss', mode='min', save_best_only=True)"
      ],
      "metadata": {
        "id": "LRXXjqC9Q70u"
      },
      "execution_count": 14,
      "outputs": []
    },
    {
      "cell_type": "code",
      "metadata": {
        "id": "UfM4obWE_3Gy"
      },
      "source": [
        "model.compile(loss='categorical_crossentropy', optimizer='adam',metrics=['accuracy'])"
      ],
      "execution_count": 16,
      "outputs": []
    },
    {
      "cell_type": "code",
      "metadata": {
        "id": "4bgNGsohMEr2",
        "colab": {
          "base_uri": "https://localhost:8080/"
        },
        "outputId": "9e3be4fe-1ca4-466f-a7ba-cbe61c46ca8f"
      },
      "source": [
        "model.summary()"
      ],
      "execution_count": 17,
      "outputs": [
        {
          "output_type": "stream",
          "name": "stdout",
          "text": [
            "Model: \"sequential\"\n",
            "_________________________________________________________________\n",
            " Layer (type)                Output Shape              Param #   \n",
            "=================================================================\n",
            " dense (Dense)               (None, 512)               401920    \n",
            "                                                                 \n",
            " dense_1 (Dense)             (None, 256)               131328    \n",
            "                                                                 \n",
            " dense_2 (Dense)             (None, 128)               32896     \n",
            "                                                                 \n",
            " dense_3 (Dense)             (None, 10)                1290      \n",
            "                                                                 \n",
            "=================================================================\n",
            "Total params: 567434 (2.16 MB)\n",
            "Trainable params: 567434 (2.16 MB)\n",
            "Non-trainable params: 0 (0.00 Byte)\n",
            "_________________________________________________________________\n"
          ]
        }
      ]
    },
    {
      "cell_type": "code",
      "metadata": {
        "id": "3P6VqYcf_3G2"
      },
      "source": [
        "size = int(len(X_train) * 0.8)\n",
        "\n",
        "train_x, val_x = X_train[:size], X_train[size:]\n",
        "train_y, val_y = Y_train[:size], Y_train[size:]"
      ],
      "execution_count": 18,
      "outputs": []
    },
    {
      "cell_type": "code",
      "source": [
        "train_x.shape"
      ],
      "metadata": {
        "id": "Cx3EJrbRL1hk",
        "outputId": "89139f91-fb35-4137-c8e5-f78078332a4a",
        "colab": {
          "base_uri": "https://localhost:8080/"
        }
      },
      "execution_count": 19,
      "outputs": [
        {
          "output_type": "execute_result",
          "data": {
            "text/plain": [
              "(48000, 784)"
            ]
          },
          "metadata": {},
          "execution_count": 19
        }
      ]
    },
    {
      "cell_type": "code",
      "source": [
        "val_x.shape"
      ],
      "metadata": {
        "id": "A2Osopl6L4Tp",
        "outputId": "db4ff86e-33d4-4d84-9900-09181f47cc1c",
        "colab": {
          "base_uri": "https://localhost:8080/"
        }
      },
      "execution_count": 20,
      "outputs": [
        {
          "output_type": "execute_result",
          "data": {
            "text/plain": [
              "(12000, 784)"
            ]
          },
          "metadata": {},
          "execution_count": 20
        }
      ]
    },
    {
      "cell_type": "code",
      "source": [
        "X_test.shape"
      ],
      "metadata": {
        "id": "tmbnxhfLL6i3",
        "outputId": "eea50717-a07f-466b-d6fc-7e9b750980bc",
        "colab": {
          "base_uri": "https://localhost:8080/"
        }
      },
      "execution_count": 21,
      "outputs": [
        {
          "output_type": "execute_result",
          "data": {
            "text/plain": [
              "(10000, 784)"
            ]
          },
          "metadata": {},
          "execution_count": 21
        }
      ]
    },
    {
      "cell_type": "code",
      "metadata": {
        "id": "1IQyPm1g_3G6",
        "colab": {
          "base_uri": "https://localhost:8080/"
        },
        "outputId": "dfb86ad0-5e43-4c72-b708-532e5f8dea37"
      },
      "source": [
        "hist = model.fit(train_x, train_y, batch_size=128, epochs=100,validation_data=(val_x, val_y))"
      ],
      "execution_count": 22,
      "outputs": [
        {
          "output_type": "stream",
          "name": "stdout",
          "text": [
            "Epoch 1/100\n",
            "375/375 [==============================] - 9s 9ms/step - loss: 0.2587 - accuracy: 0.9237 - val_loss: 0.1203 - val_accuracy: 0.9619\n",
            "Epoch 2/100\n",
            "375/375 [==============================] - 2s 4ms/step - loss: 0.0971 - accuracy: 0.9700 - val_loss: 0.0972 - val_accuracy: 0.9700\n",
            "Epoch 3/100\n",
            "375/375 [==============================] - 2s 4ms/step - loss: 0.0612 - accuracy: 0.9804 - val_loss: 0.1004 - val_accuracy: 0.9689\n",
            "Epoch 4/100\n",
            "375/375 [==============================] - 2s 4ms/step - loss: 0.0417 - accuracy: 0.9864 - val_loss: 0.1023 - val_accuracy: 0.9725\n",
            "Epoch 5/100\n",
            "375/375 [==============================] - 2s 4ms/step - loss: 0.0327 - accuracy: 0.9885 - val_loss: 0.0988 - val_accuracy: 0.9730\n",
            "Epoch 6/100\n",
            "375/375 [==============================] - 2s 4ms/step - loss: 0.0248 - accuracy: 0.9919 - val_loss: 0.0969 - val_accuracy: 0.9758\n",
            "Epoch 7/100\n",
            "375/375 [==============================] - 2s 5ms/step - loss: 0.0216 - accuracy: 0.9931 - val_loss: 0.0903 - val_accuracy: 0.9757\n",
            "Epoch 8/100\n",
            "375/375 [==============================] - 2s 6ms/step - loss: 0.0202 - accuracy: 0.9934 - val_loss: 0.1052 - val_accuracy: 0.9758\n",
            "Epoch 9/100\n",
            "375/375 [==============================] - 2s 4ms/step - loss: 0.0178 - accuracy: 0.9939 - val_loss: 0.1012 - val_accuracy: 0.9761\n",
            "Epoch 10/100\n",
            "375/375 [==============================] - 2s 4ms/step - loss: 0.0149 - accuracy: 0.9950 - val_loss: 0.1078 - val_accuracy: 0.9757\n",
            "Epoch 11/100\n",
            "375/375 [==============================] - 2s 4ms/step - loss: 0.0135 - accuracy: 0.9954 - val_loss: 0.1074 - val_accuracy: 0.9763\n",
            "Epoch 12/100\n",
            "375/375 [==============================] - 2s 4ms/step - loss: 0.0139 - accuracy: 0.9951 - val_loss: 0.1072 - val_accuracy: 0.9776\n",
            "Epoch 13/100\n",
            "375/375 [==============================] - 2s 4ms/step - loss: 0.0123 - accuracy: 0.9960 - val_loss: 0.1139 - val_accuracy: 0.9772\n",
            "Epoch 14/100\n",
            "375/375 [==============================] - 2s 4ms/step - loss: 0.0154 - accuracy: 0.9951 - val_loss: 0.1237 - val_accuracy: 0.9747\n",
            "Epoch 15/100\n",
            "375/375 [==============================] - 3s 7ms/step - loss: 0.0110 - accuracy: 0.9962 - val_loss: 0.1086 - val_accuracy: 0.9780\n",
            "Epoch 16/100\n",
            "375/375 [==============================] - 2s 4ms/step - loss: 0.0070 - accuracy: 0.9978 - val_loss: 0.1153 - val_accuracy: 0.9781\n",
            "Epoch 17/100\n",
            "375/375 [==============================] - 2s 4ms/step - loss: 0.0108 - accuracy: 0.9966 - val_loss: 0.1056 - val_accuracy: 0.9777\n",
            "Epoch 18/100\n",
            "375/375 [==============================] - 2s 5ms/step - loss: 0.0069 - accuracy: 0.9978 - val_loss: 0.1189 - val_accuracy: 0.9763\n",
            "Epoch 19/100\n",
            "375/375 [==============================] - 2s 5ms/step - loss: 0.0093 - accuracy: 0.9973 - val_loss: 0.1187 - val_accuracy: 0.9777\n",
            "Epoch 20/100\n",
            "375/375 [==============================] - 2s 4ms/step - loss: 0.0071 - accuracy: 0.9981 - val_loss: 0.1184 - val_accuracy: 0.9783\n",
            "Epoch 21/100\n",
            "375/375 [==============================] - 2s 4ms/step - loss: 0.0137 - accuracy: 0.9958 - val_loss: 0.1097 - val_accuracy: 0.9787\n",
            "Epoch 22/100\n",
            "375/375 [==============================] - 3s 8ms/step - loss: 0.0106 - accuracy: 0.9970 - val_loss: 0.1054 - val_accuracy: 0.9789\n",
            "Epoch 23/100\n",
            "375/375 [==============================] - 2s 6ms/step - loss: 0.0050 - accuracy: 0.9984 - val_loss: 0.1143 - val_accuracy: 0.9804\n",
            "Epoch 24/100\n",
            "375/375 [==============================] - 2s 4ms/step - loss: 0.0078 - accuracy: 0.9978 - val_loss: 0.1248 - val_accuracy: 0.9778\n",
            "Epoch 25/100\n",
            "375/375 [==============================] - 2s 4ms/step - loss: 0.0098 - accuracy: 0.9971 - val_loss: 0.1087 - val_accuracy: 0.9793\n",
            "Epoch 26/100\n",
            "375/375 [==============================] - 2s 4ms/step - loss: 0.0024 - accuracy: 0.9993 - val_loss: 0.1342 - val_accuracy: 0.9768\n",
            "Epoch 27/100\n",
            "375/375 [==============================] - 2s 4ms/step - loss: 0.0105 - accuracy: 0.9968 - val_loss: 0.1349 - val_accuracy: 0.9758\n",
            "Epoch 28/100\n",
            "375/375 [==============================] - 2s 5ms/step - loss: 0.0038 - accuracy: 0.9987 - val_loss: 0.1226 - val_accuracy: 0.9800\n",
            "Epoch 29/100\n",
            "375/375 [==============================] - 2s 5ms/step - loss: 0.0078 - accuracy: 0.9975 - val_loss: 0.1318 - val_accuracy: 0.9760\n",
            "Epoch 30/100\n",
            "375/375 [==============================] - 2s 4ms/step - loss: 0.0067 - accuracy: 0.9982 - val_loss: 0.1201 - val_accuracy: 0.9786\n",
            "Epoch 31/100\n",
            "375/375 [==============================] - 2s 4ms/step - loss: 0.0042 - accuracy: 0.9988 - val_loss: 0.1145 - val_accuracy: 0.9789\n",
            "Epoch 32/100\n",
            "375/375 [==============================] - 2s 4ms/step - loss: 0.0066 - accuracy: 0.9979 - val_loss: 0.1318 - val_accuracy: 0.9803\n",
            "Epoch 33/100\n",
            "375/375 [==============================] - 2s 4ms/step - loss: 0.0065 - accuracy: 0.9981 - val_loss: 0.1338 - val_accuracy: 0.9779\n",
            "Epoch 34/100\n",
            "375/375 [==============================] - 2s 4ms/step - loss: 0.0060 - accuracy: 0.9981 - val_loss: 0.1199 - val_accuracy: 0.9797\n",
            "Epoch 35/100\n",
            "375/375 [==============================] - 2s 4ms/step - loss: 0.0022 - accuracy: 0.9992 - val_loss: 0.1415 - val_accuracy: 0.9789\n",
            "Epoch 36/100\n",
            "375/375 [==============================] - 2s 6ms/step - loss: 0.0073 - accuracy: 0.9981 - val_loss: 0.1454 - val_accuracy: 0.9769\n",
            "Epoch 37/100\n",
            "375/375 [==============================] - 2s 5ms/step - loss: 0.0054 - accuracy: 0.9982 - val_loss: 0.1226 - val_accuracy: 0.9808\n",
            "Epoch 38/100\n",
            "375/375 [==============================] - 2s 4ms/step - loss: 0.0021 - accuracy: 0.9994 - val_loss: 0.1234 - val_accuracy: 0.9814\n",
            "Epoch 39/100\n",
            "375/375 [==============================] - 2s 4ms/step - loss: 0.0046 - accuracy: 0.9989 - val_loss: 0.1247 - val_accuracy: 0.9819\n",
            "Epoch 40/100\n",
            "375/375 [==============================] - 2s 4ms/step - loss: 0.0046 - accuracy: 0.9989 - val_loss: 0.1363 - val_accuracy: 0.9797\n",
            "Epoch 41/100\n",
            "375/375 [==============================] - 2s 4ms/step - loss: 0.0065 - accuracy: 0.9984 - val_loss: 0.1301 - val_accuracy: 0.9773\n",
            "Epoch 42/100\n",
            "375/375 [==============================] - 2s 4ms/step - loss: 0.0087 - accuracy: 0.9973 - val_loss: 0.1213 - val_accuracy: 0.9804\n",
            "Epoch 43/100\n",
            "375/375 [==============================] - 2s 6ms/step - loss: 0.0037 - accuracy: 0.9988 - val_loss: 0.1261 - val_accuracy: 0.9799\n",
            "Epoch 44/100\n",
            "375/375 [==============================] - 2s 5ms/step - loss: 0.0038 - accuracy: 0.9989 - val_loss: 0.1319 - val_accuracy: 0.9794\n",
            "Epoch 45/100\n",
            "375/375 [==============================] - 2s 4ms/step - loss: 0.0029 - accuracy: 0.9990 - val_loss: 0.1331 - val_accuracy: 0.9808\n",
            "Epoch 46/100\n",
            "375/375 [==============================] - 2s 4ms/step - loss: 0.0044 - accuracy: 0.9985 - val_loss: 0.1735 - val_accuracy: 0.9755\n",
            "Epoch 47/100\n",
            "375/375 [==============================] - 2s 4ms/step - loss: 0.0075 - accuracy: 0.9977 - val_loss: 0.1283 - val_accuracy: 0.9799\n",
            "Epoch 48/100\n",
            "375/375 [==============================] - 2s 4ms/step - loss: 0.0023 - accuracy: 0.9994 - val_loss: 0.1408 - val_accuracy: 0.9812\n",
            "Epoch 49/100\n",
            "375/375 [==============================] - 2s 4ms/step - loss: 0.0032 - accuracy: 0.9991 - val_loss: 0.1658 - val_accuracy: 0.9759\n",
            "Epoch 50/100\n",
            "375/375 [==============================] - 2s 5ms/step - loss: 0.0053 - accuracy: 0.9985 - val_loss: 0.1496 - val_accuracy: 0.9791\n",
            "Epoch 51/100\n",
            "375/375 [==============================] - 2s 5ms/step - loss: 0.0041 - accuracy: 0.9989 - val_loss: 0.1378 - val_accuracy: 0.9792\n",
            "Epoch 52/100\n",
            "375/375 [==============================] - 2s 4ms/step - loss: 0.0027 - accuracy: 0.9993 - val_loss: 0.1359 - val_accuracy: 0.9807\n",
            "Epoch 53/100\n",
            "375/375 [==============================] - 2s 4ms/step - loss: 0.0066 - accuracy: 0.9981 - val_loss: 0.1490 - val_accuracy: 0.9799\n",
            "Epoch 54/100\n",
            "375/375 [==============================] - 2s 4ms/step - loss: 0.0042 - accuracy: 0.9988 - val_loss: 0.1333 - val_accuracy: 0.9803\n",
            "Epoch 55/100\n",
            "375/375 [==============================] - 2s 4ms/step - loss: 0.0032 - accuracy: 0.9991 - val_loss: 0.1521 - val_accuracy: 0.9789\n",
            "Epoch 56/100\n",
            "375/375 [==============================] - 2s 4ms/step - loss: 0.0028 - accuracy: 0.9991 - val_loss: 0.1392 - val_accuracy: 0.9811\n",
            "Epoch 57/100\n",
            "375/375 [==============================] - 2s 4ms/step - loss: 0.0064 - accuracy: 0.9982 - val_loss: 0.1398 - val_accuracy: 0.9778\n",
            "Epoch 58/100\n",
            "375/375 [==============================] - 2s 6ms/step - loss: 0.0042 - accuracy: 0.9989 - val_loss: 0.1250 - val_accuracy: 0.9797\n",
            "Epoch 59/100\n",
            "375/375 [==============================] - 2s 5ms/step - loss: 7.5029e-04 - accuracy: 0.9999 - val_loss: 0.1181 - val_accuracy: 0.9827\n",
            "Epoch 60/100\n",
            "375/375 [==============================] - 2s 4ms/step - loss: 4.7099e-05 - accuracy: 1.0000 - val_loss: 0.1210 - val_accuracy: 0.9827\n",
            "Epoch 61/100\n",
            "375/375 [==============================] - 2s 4ms/step - loss: 1.3570e-05 - accuracy: 1.0000 - val_loss: 0.1219 - val_accuracy: 0.9827\n",
            "Epoch 62/100\n",
            "375/375 [==============================] - 2s 4ms/step - loss: 9.4739e-06 - accuracy: 1.0000 - val_loss: 0.1234 - val_accuracy: 0.9828\n",
            "Epoch 63/100\n",
            "375/375 [==============================] - 2s 4ms/step - loss: 7.2211e-06 - accuracy: 1.0000 - val_loss: 0.1250 - val_accuracy: 0.9827\n",
            "Epoch 64/100\n",
            "375/375 [==============================] - 2s 4ms/step - loss: 5.6207e-06 - accuracy: 1.0000 - val_loss: 0.1266 - val_accuracy: 0.9826\n",
            "Epoch 65/100\n",
            "375/375 [==============================] - 2s 5ms/step - loss: 4.3963e-06 - accuracy: 1.0000 - val_loss: 0.1286 - val_accuracy: 0.9824\n",
            "Epoch 66/100\n",
            "375/375 [==============================] - 2s 5ms/step - loss: 3.3197e-06 - accuracy: 1.0000 - val_loss: 0.1321 - val_accuracy: 0.9827\n",
            "Epoch 67/100\n",
            "375/375 [==============================] - 2s 4ms/step - loss: 2.1612e-06 - accuracy: 1.0000 - val_loss: 0.1376 - val_accuracy: 0.9826\n",
            "Epoch 68/100\n",
            "375/375 [==============================] - 2s 4ms/step - loss: 1.2437e-06 - accuracy: 1.0000 - val_loss: 0.1453 - val_accuracy: 0.9823\n",
            "Epoch 69/100\n",
            "375/375 [==============================] - 2s 4ms/step - loss: 6.8949e-07 - accuracy: 1.0000 - val_loss: 0.1518 - val_accuracy: 0.9822\n",
            "Epoch 70/100\n",
            "375/375 [==============================] - 2s 4ms/step - loss: 4.1652e-07 - accuracy: 1.0000 - val_loss: 0.1590 - val_accuracy: 0.9819\n",
            "Epoch 71/100\n",
            "375/375 [==============================] - 2s 4ms/step - loss: 2.6040e-07 - accuracy: 1.0000 - val_loss: 0.1654 - val_accuracy: 0.9820\n",
            "Epoch 72/100\n",
            "375/375 [==============================] - 2s 4ms/step - loss: 1.6836e-07 - accuracy: 1.0000 - val_loss: 0.1722 - val_accuracy: 0.9821\n",
            "Epoch 73/100\n",
            "375/375 [==============================] - 2s 6ms/step - loss: 1.1742e-07 - accuracy: 1.0000 - val_loss: 0.1775 - val_accuracy: 0.9822\n",
            "Epoch 74/100\n",
            "375/375 [==============================] - 2s 4ms/step - loss: 8.3299e-08 - accuracy: 1.0000 - val_loss: 0.1823 - val_accuracy: 0.9822\n",
            "Epoch 75/100\n",
            "375/375 [==============================] - 2s 4ms/step - loss: 6.0565e-08 - accuracy: 1.0000 - val_loss: 0.1875 - val_accuracy: 0.9821\n",
            "Epoch 76/100\n",
            "375/375 [==============================] - 2s 4ms/step - loss: 4.5379e-08 - accuracy: 1.0000 - val_loss: 0.1916 - val_accuracy: 0.9824\n",
            "Epoch 77/100\n",
            "375/375 [==============================] - 2s 4ms/step - loss: 3.4881e-08 - accuracy: 1.0000 - val_loss: 0.1955 - val_accuracy: 0.9825\n",
            "Epoch 78/100\n",
            "375/375 [==============================] - 2s 4ms/step - loss: 2.7428e-08 - accuracy: 1.0000 - val_loss: 0.1990 - val_accuracy: 0.9826\n",
            "Epoch 79/100\n",
            "375/375 [==============================] - 2s 4ms/step - loss: 2.2337e-08 - accuracy: 1.0000 - val_loss: 0.2018 - val_accuracy: 0.9826\n",
            "Epoch 80/100\n",
            "375/375 [==============================] - 2s 6ms/step - loss: 1.8269e-08 - accuracy: 1.0000 - val_loss: 0.2050 - val_accuracy: 0.9826\n",
            "Epoch 81/100\n",
            "375/375 [==============================] - 2s 5ms/step - loss: 1.5072e-08 - accuracy: 1.0000 - val_loss: 0.2072 - val_accuracy: 0.9827\n",
            "Epoch 82/100\n",
            "375/375 [==============================] - 2s 4ms/step - loss: 1.2596e-08 - accuracy: 1.0000 - val_loss: 0.2102 - val_accuracy: 0.9827\n",
            "Epoch 83/100\n",
            "375/375 [==============================] - 2s 4ms/step - loss: 1.0528e-08 - accuracy: 1.0000 - val_loss: 0.2124 - val_accuracy: 0.9826\n",
            "Epoch 84/100\n",
            "375/375 [==============================] - 2s 4ms/step - loss: 8.8811e-09 - accuracy: 1.0000 - val_loss: 0.2144 - val_accuracy: 0.9825\n",
            "Epoch 85/100\n",
            "375/375 [==============================] - 2s 4ms/step - loss: 7.5325e-09 - accuracy: 1.0000 - val_loss: 0.2164 - val_accuracy: 0.9826\n",
            "Epoch 86/100\n",
            "375/375 [==============================] - 2s 5ms/step - loss: 6.4746e-09 - accuracy: 1.0000 - val_loss: 0.2183 - val_accuracy: 0.9826\n",
            "Epoch 87/100\n",
            "375/375 [==============================] - 2s 5ms/step - loss: 5.5532e-09 - accuracy: 1.0000 - val_loss: 0.2202 - val_accuracy: 0.9826\n",
            "Epoch 88/100\n",
            "375/375 [==============================] - 2s 6ms/step - loss: 4.7609e-09 - accuracy: 1.0000 - val_loss: 0.2217 - val_accuracy: 0.9826\n",
            "Epoch 89/100\n",
            "375/375 [==============================] - 2s 4ms/step - loss: 4.1251e-09 - accuracy: 1.0000 - val_loss: 0.2233 - val_accuracy: 0.9826\n",
            "Epoch 90/100\n",
            "375/375 [==============================] - 2s 4ms/step - loss: 3.5862e-09 - accuracy: 1.0000 - val_loss: 0.2248 - val_accuracy: 0.9826\n",
            "Epoch 91/100\n",
            "375/375 [==============================] - 2s 4ms/step - loss: 3.1441e-09 - accuracy: 1.0000 - val_loss: 0.2264 - val_accuracy: 0.9826\n",
            "Epoch 92/100\n",
            "375/375 [==============================] - 2s 4ms/step - loss: 2.7418e-09 - accuracy: 1.0000 - val_loss: 0.2277 - val_accuracy: 0.9826\n",
            "Epoch 93/100\n",
            "375/375 [==============================] - 2s 4ms/step - loss: 2.3892e-09 - accuracy: 1.0000 - val_loss: 0.2290 - val_accuracy: 0.9826\n",
            "Epoch 94/100\n",
            "375/375 [==============================] - 2s 4ms/step - loss: 2.0986e-09 - accuracy: 1.0000 - val_loss: 0.2302 - val_accuracy: 0.9827\n",
            "Epoch 95/100\n",
            "375/375 [==============================] - 3s 7ms/step - loss: 1.8353e-09 - accuracy: 1.0000 - val_loss: 0.2313 - val_accuracy: 0.9827\n",
            "Epoch 96/100\n",
            "375/375 [==============================] - 2s 4ms/step - loss: 1.5870e-09 - accuracy: 1.0000 - val_loss: 0.2322 - val_accuracy: 0.9827\n",
            "Epoch 97/100\n",
            "375/375 [==============================] - 2s 4ms/step - loss: 1.4106e-09 - accuracy: 1.0000 - val_loss: 0.2330 - val_accuracy: 0.9827\n",
            "Epoch 98/100\n",
            "375/375 [==============================] - 2s 4ms/step - loss: 1.2765e-09 - accuracy: 1.0000 - val_loss: 0.2339 - val_accuracy: 0.9827\n",
            "Epoch 99/100\n",
            "375/375 [==============================] - 2s 4ms/step - loss: 1.1499e-09 - accuracy: 1.0000 - val_loss: 0.2348 - val_accuracy: 0.9827\n",
            "Epoch 100/100\n",
            "375/375 [==============================] - 2s 4ms/step - loss: 9.8348e-10 - accuracy: 1.0000 - val_loss: 0.2356 - val_accuracy: 0.9827\n"
          ]
        }
      ]
    },
    {
      "cell_type": "code",
      "metadata": {
        "id": "iVMEuC0-_3HB",
        "colab": {
          "base_uri": "https://localhost:8080/"
        },
        "outputId": "aff92be2-769d-4560-9f5e-0562b43a54a7"
      },
      "source": [
        "score = model.evaluate(X_test, Y_test)\n",
        "print()\n",
        "print('Test accuracy: ', score[1])"
      ],
      "execution_count": 23,
      "outputs": [
        {
          "output_type": "stream",
          "name": "stdout",
          "text": [
            "313/313 [==============================] - 1s 3ms/step - loss: 0.1945 - accuracy: 0.9853\n",
            "\n",
            "Test accuracy:  0.9853000044822693\n"
          ]
        }
      ]
    },
    {
      "cell_type": "code",
      "metadata": {
        "id": "elo2tQ9C_3HE",
        "colab": {
          "base_uri": "https://localhost:8080/"
        },
        "outputId": "d84590d1-751f-474c-b176-a797956e36b2"
      },
      "source": [
        "predictions = model.predict(X_test)\n",
        "\n",
        "predictions = list(predictions)\n",
        "actuals = list(y_test)\n",
        "\n",
        "sub = pd.DataFrame({'Actual': actuals, 'Predictions': predictions})\n",
        "sub.to_csv('output.csv', index=False)"
      ],
      "execution_count": 24,
      "outputs": [
        {
          "output_type": "stream",
          "name": "stdout",
          "text": [
            "313/313 [==============================] - 1s 2ms/step\n"
          ]
        }
      ]
    },
    {
      "cell_type": "code",
      "source": [
        "np.argmax(predictions[1])"
      ],
      "metadata": {
        "id": "V7WVw-ylOE1d",
        "outputId": "0fd14841-065f-4190-868c-827914faaa65",
        "colab": {
          "base_uri": "https://localhost:8080/"
        }
      },
      "execution_count": 25,
      "outputs": [
        {
          "output_type": "execute_result",
          "data": {
            "text/plain": [
              "2"
            ]
          },
          "metadata": {},
          "execution_count": 25
        }
      ]
    },
    {
      "cell_type": "code",
      "metadata": {
        "id": "jd888zf-mDjy"
      },
      "source": [],
      "execution_count": null,
      "outputs": []
    },
    {
      "cell_type": "code",
      "metadata": {
        "id": "CiSKGn2jVhkK",
        "colab": {
          "base_uri": "https://localhost:8080/",
          "height": 226
        },
        "outputId": "55b0ab70-b85b-4602-fefd-4dc3f7ceeafe"
      },
      "source": [
        "plt.figure(figsize=(14,3))\n",
        "plt.subplot(1, 2, 1)\n",
        "plt.suptitle('Optimizer : Adam', fontsize=10)\n",
        "plt.ylabel('Loss', fontsize=16)\n",
        "plt.plot(hist.history['loss'], color='b', label='Training Loss')\n",
        "plt.plot(hist.history['val_loss'], color='r', label='Validation Loss')\n",
        "plt.legend(loc='upper right')\n",
        "\n",
        "plt.subplot(1, 2, 2)\n",
        "plt.ylabel('Accuracy', fontsize=16)\n",
        "plt.plot(hist.history['accuracy'], color='b', label='Training Accuracy')\n",
        "plt.plot(hist.history['val_accuracy'], color='r', label='Validation Accuracy')\n",
        "plt.legend(loc='lower right')\n",
        "plt.show()"
      ],
      "execution_count": 26,
      "outputs": [
        {
          "output_type": "display_data",
          "data": {
            "text/plain": [
              "<Figure size 1400x300 with 2 Axes>"
            ],
            "image/png": "[encoded data removed]"
          },
          "metadata": {}
        }
      ]
    },
    {
      "cell_type": "code",
      "metadata": {
        "id": "yXNDej7bnSZz"
      },
      "source": [],
      "execution_count": null,
      "outputs": []
    }
  ]
}